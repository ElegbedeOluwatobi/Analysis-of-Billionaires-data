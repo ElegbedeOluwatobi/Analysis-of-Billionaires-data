{
 "cells": [
  {
   "cell_type": "code",
   "execution_count": 1,
   "id": "fc0cf856",
   "metadata": {},
   "outputs": [],
   "source": [
    "import pandas as pd\n",
    "import numpy as np\n",
    "import matplotlib as mlt\n",
    "import matplotlib.pyplot as plt\n",
    "import seaborn as sns"
   ]
  },
  {
   "cell_type": "code",
   "execution_count": 2,
   "id": "9c008e3e",
   "metadata": {},
   "outputs": [
    {
     "data": {
      "text/html": [
       "<div>\n",
       "<style scoped>\n",
       "    .dataframe tbody tr th:only-of-type {\n",
       "        vertical-align: middle;\n",
       "    }\n",
       "\n",
       "    .dataframe tbody tr th {\n",
       "        vertical-align: top;\n",
       "    }\n",
       "\n",
       "    .dataframe thead th {\n",
       "        text-align: right;\n",
       "    }\n",
       "</style>\n",
       "<table border=\"1\" class=\"dataframe\">\n",
       "  <thead>\n",
       "    <tr style=\"text-align: right;\">\n",
       "      <th></th>\n",
       "      <th>Rank</th>\n",
       "      <th>Name</th>\n",
       "      <th>Networth</th>\n",
       "      <th>Age</th>\n",
       "      <th>Country</th>\n",
       "      <th>Source</th>\n",
       "      <th>Industry</th>\n",
       "    </tr>\n",
       "  </thead>\n",
       "  <tbody>\n",
       "    <tr>\n",
       "      <th>0</th>\n",
       "      <td>1</td>\n",
       "      <td>Elon Musk</td>\n",
       "      <td>219.0</td>\n",
       "      <td>50</td>\n",
       "      <td>United States</td>\n",
       "      <td>Tesla, SpaceX</td>\n",
       "      <td>Automotive</td>\n",
       "    </tr>\n",
       "    <tr>\n",
       "      <th>1</th>\n",
       "      <td>2</td>\n",
       "      <td>Jeff Bezos</td>\n",
       "      <td>171.0</td>\n",
       "      <td>58</td>\n",
       "      <td>United States</td>\n",
       "      <td>Amazon</td>\n",
       "      <td>Technology</td>\n",
       "    </tr>\n",
       "    <tr>\n",
       "      <th>2</th>\n",
       "      <td>3</td>\n",
       "      <td>Bernard Arnault &amp; family</td>\n",
       "      <td>158.0</td>\n",
       "      <td>73</td>\n",
       "      <td>France</td>\n",
       "      <td>LVMH</td>\n",
       "      <td>Fashion &amp; Retail</td>\n",
       "    </tr>\n",
       "    <tr>\n",
       "      <th>3</th>\n",
       "      <td>4</td>\n",
       "      <td>Bill Gates</td>\n",
       "      <td>129.0</td>\n",
       "      <td>66</td>\n",
       "      <td>United States</td>\n",
       "      <td>Microsoft</td>\n",
       "      <td>Technology</td>\n",
       "    </tr>\n",
       "    <tr>\n",
       "      <th>4</th>\n",
       "      <td>5</td>\n",
       "      <td>Warren Buffett</td>\n",
       "      <td>118.0</td>\n",
       "      <td>91</td>\n",
       "      <td>United States</td>\n",
       "      <td>Berkshire Hathaway</td>\n",
       "      <td>Finance &amp; Investments</td>\n",
       "    </tr>\n",
       "  </tbody>\n",
       "</table>\n",
       "</div>"
      ],
      "text/plain": [
       "   Rank                        Name  Networth  Age        Country  \\\n",
       "0      1                 Elon Musk      219.0   50  United States   \n",
       "1      2                Jeff Bezos      171.0   58  United States   \n",
       "2      3  Bernard Arnault & family      158.0   73         France   \n",
       "3      4                Bill Gates      129.0   66  United States   \n",
       "4      5            Warren Buffett      118.0   91  United States   \n",
       "\n",
       "               Source                Industry  \n",
       "0       Tesla, SpaceX             Automotive   \n",
       "1              Amazon             Technology   \n",
       "2                LVMH       Fashion & Retail   \n",
       "3           Microsoft             Technology   \n",
       "4  Berkshire Hathaway  Finance & Investments   "
      ]
     },
     "execution_count": 2,
     "metadata": {},
     "output_type": "execute_result"
    }
   ],
   "source": [
    "#Read data and display first 5 rows\n",
    "df = pd.read_csv(r\"C:\\Users\\elegb\\Desktop\\pdf\\Forbes Billionaires.csv\")\n",
    "df.head()"
   ]
  },
  {
   "cell_type": "code",
   "execution_count": 3,
   "id": "f3f2cf99",
   "metadata": {},
   "outputs": [
    {
     "data": {
      "text/plain": [
       "Rank        0\n",
       "Name        0\n",
       "Networth    0\n",
       "Age         0\n",
       "Country     0\n",
       "Source      0\n",
       "Industry    0\n",
       "dtype: int64"
      ]
     },
     "execution_count": 3,
     "metadata": {},
     "output_type": "execute_result"
    }
   ],
   "source": [
    "df.isnull().sum()"
   ]
  },
  {
   "cell_type": "markdown",
   "id": "63a4c48c",
   "metadata": {},
   "source": [
    "There are no missing data in the dataset"
   ]
  },
  {
   "cell_type": "code",
   "execution_count": 4,
   "id": "1cd524ca",
   "metadata": {},
   "outputs": [
    {
     "data": {
      "text/plain": [
       "array(['Automotive ', 'Technology ', 'Fashion & Retail ',\n",
       "       'Finance & Investments ', 'diversified   ',\n",
       "       'Media & Entertainment ', 'Telecom ', 'Food & Beverage ',\n",
       "       'Logistics ', 'Real Estate ', 'Metals & Mining ', 'Manufacturing ',\n",
       "       'Gambling & Casinos ', 'Healthcare ', 'Service ', 'Energy ',\n",
       "       'Construction & Engineering ', 'Sports '], dtype=object)"
      ]
     },
     "execution_count": 4,
     "metadata": {},
     "output_type": "execute_result"
    }
   ],
   "source": [
    "#which industries prouduced these Billionaires\n",
    "df.Industry.unique()"
   ]
  },
  {
   "cell_type": "markdown",
   "id": "bfe3c03b",
   "metadata": {},
   "source": [
    "The above industries provided the Billionaires of the world."
   ]
  },
  {
   "cell_type": "code",
   "execution_count": 5,
   "id": "e3bf9e6e",
   "metadata": {},
   "outputs": [
    {
     "data": {
      "text/plain": [
       "Finance & Investments          386\n",
       "Technology                     329\n",
       "Manufacturing                  322\n",
       "Fashion & Retail               246\n",
       "Healthcare                     212\n",
       "Food & Beverage                201\n",
       "Real Estate                    189\n",
       "diversified                    178\n",
       "Media & Entertainment           95\n",
       "Energy                          93\n",
       "Automotive                      69\n",
       "Metals & Mining                 67\n",
       "Service                         51\n",
       "Construction & Engineering      43\n",
       "Logistics                       35\n",
       "Telecom                         35\n",
       "Sports                          26\n",
       "Gambling & Casinos              23\n",
       "Name: Industry, dtype: int64"
      ]
     },
     "execution_count": 5,
     "metadata": {},
     "output_type": "execute_result"
    }
   ],
   "source": [
    "#industries and thier total number of Billionaires produced\n",
    "df.Industry.value_counts()"
   ]
  },
  {
   "cell_type": "markdown",
   "id": "93b609f9",
   "metadata": {},
   "source": [
    "Finance and Investments produced the highest number of Billionaires(386), followed by tech with 329 Billionaires."
   ]
  },
  {
   "cell_type": "code",
   "execution_count": 6,
   "id": "c00b656f",
   "metadata": {},
   "outputs": [
    {
     "data": {
      "text/plain": [
       "Text(0.5, 1.0, 'Bar chart of  Top 10 Industries that produced highest number of Billionaires')"
      ]
     },
     "execution_count": 6,
     "metadata": {},
     "output_type": "execute_result"
    },
    {
     "data": {
      "image/png": "[encoded data removed]",
      "text/plain": [
       "<Figure size 1008x576 with 1 Axes>"
      ]
     },
     "metadata": {
      "needs_background": "light"
     },
     "output_type": "display_data"
    }
   ],
   "source": [
    "# Bar chart of  Top 10 Industries that produced highest number of Billionaires\n",
    "df.Industry.value_counts().head(10).plot(kind = \"bar\", figsize = (14,8))\n",
    "plt.title(\"Bar chart of  Top 10 Industries that produced highest number of Billionaires\")"
   ]
  },
  {
   "cell_type": "code",
   "execution_count": 7,
   "id": "969432ed",
   "metadata": {},
   "outputs": [
    {
     "data": {
      "text/plain": [
       "array(['United States', 'France', 'India', 'Mexico', 'China', 'Canada',\n",
       "       'Spain', 'Germany', 'Hong Kong', 'Italy', 'Australia', 'Austria',\n",
       "       'Japan', 'Indonesia', 'Switzerland', 'Chile', 'Russia',\n",
       "       'Singapore', 'Sweden', 'Czechia', 'United Kingdom', 'Brazil',\n",
       "       'Israel', 'Netherlands', 'Ireland', 'Nigeria', 'Denmark',\n",
       "       'Thailand', 'Cyprus', 'Malaysia', 'Taiwan', 'Monaco', 'Colombia',\n",
       "       'New Zealand', 'South Korea', 'Belgium', 'South Africa',\n",
       "       'Philippines', 'Egypt', 'Greece', 'Norway', 'Vietnam', 'Poland',\n",
       "       'Eswatini (Swaziland)', 'Peru', 'Algeria', 'Kazakhstan', 'Georgia',\n",
       "       'Portugal', 'Turkey', 'Finland', 'Ukraine', 'Argentina', 'Belize',\n",
       "       'Venezuela', 'Lebanon', 'Zimbabwe', 'Romania',\n",
       "       'United Arab Emirates', 'Oman', 'Iceland', 'Guernsey',\n",
       "       'Liechtenstein', 'Qatar', 'Morocco', 'Bulgaria', 'Macau',\n",
       "       'Slovakia', 'Barbados', 'Uruguay', 'Nepal', 'Tanzania',\n",
       "       'St. Kitts and Nevis', 'Hungary', 'Estonia'], dtype=object)"
      ]
     },
     "execution_count": 7,
     "metadata": {},
     "output_type": "execute_result"
    }
   ],
   "source": [
    "# countries that produced these Billionaires\n",
    "df.Country.unique()"
   ]
  },
  {
   "cell_type": "code",
   "execution_count": 8,
   "id": "95bef272",
   "metadata": {},
   "outputs": [
    {
     "data": {
      "text/html": [
       "<div>\n",
       "<style scoped>\n",
       "    .dataframe tbody tr th:only-of-type {\n",
       "        vertical-align: middle;\n",
       "    }\n",
       "\n",
       "    .dataframe tbody tr th {\n",
       "        vertical-align: top;\n",
       "    }\n",
       "\n",
       "    .dataframe thead th {\n",
       "        text-align: right;\n",
       "    }\n",
       "</style>\n",
       "<table border=\"1\" class=\"dataframe\">\n",
       "  <thead>\n",
       "    <tr style=\"text-align: right;\">\n",
       "      <th></th>\n",
       "      <th>Rank</th>\n",
       "      <th>Networth</th>\n",
       "      <th>Age</th>\n",
       "    </tr>\n",
       "  </thead>\n",
       "  <tbody>\n",
       "    <tr>\n",
       "      <th>count</th>\n",
       "      <td>2600</td>\n",
       "      <td>2600</td>\n",
       "      <td>2600</td>\n",
       "    </tr>\n",
       "    <tr>\n",
       "      <th>mean</th>\n",
       "      <td>1269</td>\n",
       "      <td>4</td>\n",
       "      <td>64</td>\n",
       "    </tr>\n",
       "    <tr>\n",
       "      <th>std</th>\n",
       "      <td>728</td>\n",
       "      <td>10</td>\n",
       "      <td>13</td>\n",
       "    </tr>\n",
       "    <tr>\n",
       "      <th>min</th>\n",
       "      <td>1</td>\n",
       "      <td>1</td>\n",
       "      <td>19</td>\n",
       "    </tr>\n",
       "    <tr>\n",
       "      <th>25%</th>\n",
       "      <td>637</td>\n",
       "      <td>1</td>\n",
       "      <td>55</td>\n",
       "    </tr>\n",
       "    <tr>\n",
       "      <th>50%</th>\n",
       "      <td>1292</td>\n",
       "      <td>2</td>\n",
       "      <td>64</td>\n",
       "    </tr>\n",
       "    <tr>\n",
       "      <th>75%</th>\n",
       "      <td>1929</td>\n",
       "      <td>4</td>\n",
       "      <td>74</td>\n",
       "    </tr>\n",
       "    <tr>\n",
       "      <th>max</th>\n",
       "      <td>2578</td>\n",
       "      <td>219</td>\n",
       "      <td>100</td>\n",
       "    </tr>\n",
       "  </tbody>\n",
       "</table>\n",
       "</div>"
      ],
      "text/plain": [
       "       Rank   Networth   Age\n",
       "count   2600      2600  2600\n",
       "mean    1269         4    64\n",
       "std      728        10    13\n",
       "min        1         1    19\n",
       "25%      637         1    55\n",
       "50%     1292         2    64\n",
       "75%     1929         4    74\n",
       "max     2578       219   100"
      ]
     },
     "execution_count": 8,
     "metadata": {},
     "output_type": "execute_result"
    }
   ],
   "source": [
    "# descriptive statistics of the dataset\n",
    "df.describe().astype(int)"
   ]
  },
  {
   "cell_type": "markdown",
   "id": "1b2bf4c8",
   "metadata": {},
   "source": [
    "The youngest Billionaire is 19 while the oldest Billionaire is 100 years old. The average age of Billionaires is 64 years old. The averahe Netwoth of the Billionaires is $Billion."
   ]
  },
  {
   "cell_type": "code",
   "execution_count": 9,
   "id": "0f3c82c8",
   "metadata": {},
   "outputs": [
    {
     "data": {
      "text/plain": [
       "Rank          int64\n",
       "Name         object\n",
       "Networth    float64\n",
       "Age           int64\n",
       "Country      object\n",
       "Source       object\n",
       "Industry     object\n",
       "dtype: object"
      ]
     },
     "execution_count": 9,
     "metadata": {},
     "output_type": "execute_result"
    }
   ],
   "source": [
    "#Data type of each columns\n",
    "df.dtypes"
   ]
  },
  {
   "cell_type": "code",
   "execution_count": 10,
   "id": "2dec882d",
   "metadata": {},
   "outputs": [
    {
     "data": {
      "text/plain": [
       "United States    719\n",
       "China            515\n",
       "India            161\n",
       "Germany          130\n",
       "Russia            81\n",
       "Hong Kong         67\n",
       "Canada            64\n",
       "Brazil            60\n",
       "Italy             52\n",
       "Taiwan            51\n",
       "Name: Country, dtype: int64"
      ]
     },
     "execution_count": 10,
     "metadata": {},
     "output_type": "execute_result"
    }
   ],
   "source": [
    "#Countries that produced hihjest number of Billionaires\n",
    "count=df.Country.value_counts()\n",
    "count =count.head(10)\n",
    "count"
   ]
  },
  {
   "cell_type": "markdown",
   "id": "d7748288",
   "metadata": {},
   "source": [
    "USA produced the most number of Billionaires (719), followed by China 515, them India 161, Germany 130,and then Russia 81 Billionaires"
   ]
  },
  {
   "cell_type": "code",
   "execution_count": 11,
   "id": "14c7bbcd",
   "metadata": {},
   "outputs": [
    {
     "data": {
      "text/plain": [
       "Text(0.5, 1.0, 'Bar chart of Countries that produced highest number of Billionaires')"
      ]
     },
     "execution_count": 11,
     "metadata": {},
     "output_type": "execute_result"
    },
    {
     "data": {
      "image/png": "[encoded data removed]",
      "text/plain": [
       "<Figure size 1008x576 with 1 Axes>"
      ]
     },
     "metadata": {
      "needs_background": "light"
     },
     "output_type": "display_data"
    }
   ],
   "source": [
    "# Bar chart of Countries that produced highest number of Billionaires\n",
    "count.plot(kind = \"bar\", figsize = (14,8))\n",
    "plt.title(\"Bar chart of Countries that produced highest number of Billionaires\")"
   ]
  },
  {
   "cell_type": "code",
   "execution_count": 12,
   "id": "49368151",
   "metadata": {},
   "outputs": [
    {
     "data": {
      "text/plain": [
       "Text(0.5, 1.0, 'Box plot of thier ages')"
      ]
     },
     "execution_count": 12,
     "metadata": {},
     "output_type": "execute_result"
    },
    {
     "data": {
      "image/png": "[encoded data removed]",
      "text/plain": [
       "<Figure size 432x288 with 1 Axes>"
      ]
     },
     "metadata": {
      "needs_background": "light"
     },
     "output_type": "display_data"
    }
   ],
   "source": [
    "df.Age.plot(kind = \"box\")\n",
    "plt.title(\"Box plot of thier ages\")"
   ]
  },
  {
   "cell_type": "code",
   "execution_count": 13,
   "id": "aad155e8",
   "metadata": {},
   "outputs": [
    {
     "data": {
      "text/plain": [
       "Text(0.5, 1.0, 'Distribution  plot of thier ages')"
      ]
     },
     "execution_count": 13,
     "metadata": {},
     "output_type": "execute_result"
    },
    {
     "data": {
      "image/png": "[encoded data removed]",
      "text/plain": [
       "<Figure size 360x360 with 1 Axes>"
      ]
     },
     "metadata": {
      "needs_background": "light"
     },
     "output_type": "display_data"
    }
   ],
   "source": [
    "sns.displot(df, x = \"Age\", kind = \"kde\", bw_adjust =2)\n",
    "plt.title(\"Distribution  plot of thier ages\")"
   ]
  },
  {
   "cell_type": "markdown",
   "id": "8285c462",
   "metadata": {},
   "source": [
    "The ages of the Billionaires is normally distributed"
   ]
  },
  {
   "cell_type": "code",
   "execution_count": 14,
   "id": "ea6f80ad",
   "metadata": {},
   "outputs": [
    {
     "data": {
      "text/html": [
       "<div>\n",
       "<style scoped>\n",
       "    .dataframe tbody tr th:only-of-type {\n",
       "        vertical-align: middle;\n",
       "    }\n",
       "\n",
       "    .dataframe tbody tr th {\n",
       "        vertical-align: top;\n",
       "    }\n",
       "\n",
       "    .dataframe thead th {\n",
       "        text-align: right;\n",
       "    }\n",
       "</style>\n",
       "<table border=\"1\" class=\"dataframe\">\n",
       "  <thead>\n",
       "    <tr style=\"text-align: right;\">\n",
       "      <th></th>\n",
       "      <th>Rank</th>\n",
       "      <th>Networth</th>\n",
       "      <th>Age</th>\n",
       "      <th>Country</th>\n",
       "      <th>Source</th>\n",
       "      <th>Industry</th>\n",
       "    </tr>\n",
       "    <tr>\n",
       "      <th>Name</th>\n",
       "      <th></th>\n",
       "      <th></th>\n",
       "      <th></th>\n",
       "      <th></th>\n",
       "      <th></th>\n",
       "      <th></th>\n",
       "    </tr>\n",
       "  </thead>\n",
       "  <tbody>\n",
       "    <tr>\n",
       "      <th>Elon Musk</th>\n",
       "      <td>1</td>\n",
       "      <td>219.0</td>\n",
       "      <td>50</td>\n",
       "      <td>United States</td>\n",
       "      <td>Tesla, SpaceX</td>\n",
       "      <td>Automotive</td>\n",
       "    </tr>\n",
       "    <tr>\n",
       "      <th>Jeff Bezos</th>\n",
       "      <td>2</td>\n",
       "      <td>171.0</td>\n",
       "      <td>58</td>\n",
       "      <td>United States</td>\n",
       "      <td>Amazon</td>\n",
       "      <td>Technology</td>\n",
       "    </tr>\n",
       "    <tr>\n",
       "      <th>Bernard Arnault &amp; family</th>\n",
       "      <td>3</td>\n",
       "      <td>158.0</td>\n",
       "      <td>73</td>\n",
       "      <td>France</td>\n",
       "      <td>LVMH</td>\n",
       "      <td>Fashion &amp; Retail</td>\n",
       "    </tr>\n",
       "    <tr>\n",
       "      <th>Bill Gates</th>\n",
       "      <td>4</td>\n",
       "      <td>129.0</td>\n",
       "      <td>66</td>\n",
       "      <td>United States</td>\n",
       "      <td>Microsoft</td>\n",
       "      <td>Technology</td>\n",
       "    </tr>\n",
       "    <tr>\n",
       "      <th>Warren Buffett</th>\n",
       "      <td>5</td>\n",
       "      <td>118.0</td>\n",
       "      <td>91</td>\n",
       "      <td>United States</td>\n",
       "      <td>Berkshire Hathaway</td>\n",
       "      <td>Finance &amp; Investments</td>\n",
       "    </tr>\n",
       "    <tr>\n",
       "      <th>Larry Page</th>\n",
       "      <td>6</td>\n",
       "      <td>111.0</td>\n",
       "      <td>49</td>\n",
       "      <td>United States</td>\n",
       "      <td>Google</td>\n",
       "      <td>Technology</td>\n",
       "    </tr>\n",
       "    <tr>\n",
       "      <th>Sergey Brin</th>\n",
       "      <td>7</td>\n",
       "      <td>107.0</td>\n",
       "      <td>48</td>\n",
       "      <td>United States</td>\n",
       "      <td>Google</td>\n",
       "      <td>Technology</td>\n",
       "    </tr>\n",
       "    <tr>\n",
       "      <th>Larry Ellison</th>\n",
       "      <td>8</td>\n",
       "      <td>106.0</td>\n",
       "      <td>77</td>\n",
       "      <td>United States</td>\n",
       "      <td>software</td>\n",
       "      <td>Technology</td>\n",
       "    </tr>\n",
       "    <tr>\n",
       "      <th>Steve Ballmer</th>\n",
       "      <td>9</td>\n",
       "      <td>91.4</td>\n",
       "      <td>66</td>\n",
       "      <td>United States</td>\n",
       "      <td>Microsoft</td>\n",
       "      <td>Technology</td>\n",
       "    </tr>\n",
       "    <tr>\n",
       "      <th>Mukesh Ambani</th>\n",
       "      <td>10</td>\n",
       "      <td>90.7</td>\n",
       "      <td>64</td>\n",
       "      <td>India</td>\n",
       "      <td>diversified</td>\n",
       "      <td>diversified</td>\n",
       "    </tr>\n",
       "  </tbody>\n",
       "</table>\n",
       "</div>"
      ],
      "text/plain": [
       "                           Rank   Networth  Age        Country  \\\n",
       "Name                                                             \n",
       "Elon Musk                      1     219.0   50  United States   \n",
       "Jeff Bezos                     2     171.0   58  United States   \n",
       "Bernard Arnault & family       3     158.0   73         France   \n",
       "Bill Gates                     4     129.0   66  United States   \n",
       "Warren Buffett                 5     118.0   91  United States   \n",
       "Larry Page                     6     111.0   49  United States   \n",
       "Sergey Brin                    7     107.0   48  United States   \n",
       "Larry Ellison                  8     106.0   77  United States   \n",
       "Steve Ballmer                  9      91.4   66  United States   \n",
       "Mukesh Ambani                 10      90.7   64          India   \n",
       "\n",
       "                                       Source                Industry  \n",
       "Name                                                                   \n",
       "Elon Musk                       Tesla, SpaceX             Automotive   \n",
       "Jeff Bezos                             Amazon             Technology   \n",
       "Bernard Arnault & family                 LVMH       Fashion & Retail   \n",
       "Bill Gates                          Microsoft             Technology   \n",
       "Warren Buffett             Berkshire Hathaway  Finance & Investments   \n",
       "Larry Page                             Google             Technology   \n",
       "Sergey Brin                            Google             Technology   \n",
       "Larry Ellison                        software             Technology   \n",
       "Steve Ballmer                       Microsoft             Technology   \n",
       "Mukesh Ambani                   diversified            diversified     "
      ]
     },
     "execution_count": 14,
     "metadata": {},
     "output_type": "execute_result"
    }
   ],
   "source": [
    "#Top 10 billionaires in the world\n",
    "df.columns = list(map(str, df.columns))\n",
    "#set Name to be our index for easy sorting\n",
    "df.set_index('Name', inplace = True)\n",
    "Top_10 =df.head(10)\n",
    "Top_10"
   ]
  },
  {
   "cell_type": "markdown",
   "id": "832c51d5",
   "metadata": {},
   "source": [
    "Richest Billionaire is Elon Musk, 50 years of age, from the USA, a man who is into the Automobile Industry."
   ]
  },
  {
   "cell_type": "code",
   "execution_count": 15,
   "id": "7e943f80",
   "metadata": {},
   "outputs": [
    {
     "data": {
      "text/html": [
       "<div>\n",
       "<style scoped>\n",
       "    .dataframe tbody tr th:only-of-type {\n",
       "        vertical-align: middle;\n",
       "    }\n",
       "\n",
       "    .dataframe tbody tr th {\n",
       "        vertical-align: top;\n",
       "    }\n",
       "\n",
       "    .dataframe thead th {\n",
       "        text-align: right;\n",
       "    }\n",
       "</style>\n",
       "<table border=\"1\" class=\"dataframe\">\n",
       "  <thead>\n",
       "    <tr style=\"text-align: right;\">\n",
       "      <th></th>\n",
       "      <th>Rank</th>\n",
       "      <th>Networth</th>\n",
       "      <th>Age</th>\n",
       "      <th>Country</th>\n",
       "      <th>Source</th>\n",
       "      <th>Industry</th>\n",
       "    </tr>\n",
       "    <tr>\n",
       "      <th>Name</th>\n",
       "      <th></th>\n",
       "      <th></th>\n",
       "      <th></th>\n",
       "      <th></th>\n",
       "      <th></th>\n",
       "      <th></th>\n",
       "    </tr>\n",
       "  </thead>\n",
       "  <tbody>\n",
       "    <tr>\n",
       "      <th>Kevin David Lehmann</th>\n",
       "      <td>1292</td>\n",
       "      <td>2.4</td>\n",
       "      <td>19</td>\n",
       "      <td>Germany</td>\n",
       "      <td>drugstores</td>\n",
       "      <td>Fashion &amp; Retail</td>\n",
       "    </tr>\n",
       "    <tr>\n",
       "      <th>Wang Zelong</th>\n",
       "      <td>1929</td>\n",
       "      <td>1.5</td>\n",
       "      <td>25</td>\n",
       "      <td>China</td>\n",
       "      <td>chemicals</td>\n",
       "      <td>Metals &amp; Mining</td>\n",
       "    </tr>\n",
       "    <tr>\n",
       "      <th>Pedro Franceschi</th>\n",
       "      <td>1929</td>\n",
       "      <td>1.5</td>\n",
       "      <td>25</td>\n",
       "      <td>Brazil</td>\n",
       "      <td>fintech</td>\n",
       "      <td>Finance &amp; Investments</td>\n",
       "    </tr>\n",
       "    <tr>\n",
       "      <th>Alexandra Andresen</th>\n",
       "      <td>2190</td>\n",
       "      <td>1.3</td>\n",
       "      <td>25</td>\n",
       "      <td>Norway</td>\n",
       "      <td>investments</td>\n",
       "      <td>diversified</td>\n",
       "    </tr>\n",
       "    <tr>\n",
       "      <th>Henrique Dubugras</th>\n",
       "      <td>1929</td>\n",
       "      <td>1.5</td>\n",
       "      <td>26</td>\n",
       "      <td>Brazil</td>\n",
       "      <td>fintech</td>\n",
       "      <td>Finance &amp; Investments</td>\n",
       "    </tr>\n",
       "    <tr>\n",
       "      <th>Katharina Andresen</th>\n",
       "      <td>2190</td>\n",
       "      <td>1.3</td>\n",
       "      <td>26</td>\n",
       "      <td>Norway</td>\n",
       "      <td>investments</td>\n",
       "      <td>diversified</td>\n",
       "    </tr>\n",
       "    <tr>\n",
       "      <th>Ryan Breslow</th>\n",
       "      <td>1513</td>\n",
       "      <td>2.0</td>\n",
       "      <td>27</td>\n",
       "      <td>United States</td>\n",
       "      <td>e-commerce software</td>\n",
       "      <td>Technology</td>\n",
       "    </tr>\n",
       "    <tr>\n",
       "      <th>Austin Russell</th>\n",
       "      <td>1818</td>\n",
       "      <td>1.6</td>\n",
       "      <td>27</td>\n",
       "      <td>United States</td>\n",
       "      <td>sensors★</td>\n",
       "      <td>Automotive</td>\n",
       "    </tr>\n",
       "    <tr>\n",
       "      <th>Gary Wang</th>\n",
       "      <td>431</td>\n",
       "      <td>5.9</td>\n",
       "      <td>28</td>\n",
       "      <td>United States</td>\n",
       "      <td>cryptocurrency exchange</td>\n",
       "      <td>Finance &amp; Investments</td>\n",
       "    </tr>\n",
       "    <tr>\n",
       "      <th>Gustav Magnar Witzoe</th>\n",
       "      <td>637</td>\n",
       "      <td>4.5</td>\n",
       "      <td>28</td>\n",
       "      <td>Norway</td>\n",
       "      <td>fish farming</td>\n",
       "      <td>Food &amp; Beverage</td>\n",
       "    </tr>\n",
       "  </tbody>\n",
       "</table>\n",
       "</div>"
      ],
      "text/plain": [
       "                       Rank   Networth  Age        Country  \\\n",
       "Name                                                         \n",
       "Kevin David Lehmann     1292       2.4   19        Germany   \n",
       "Wang Zelong             1929       1.5   25          China   \n",
       "Pedro Franceschi        1929       1.5   25         Brazil   \n",
       "Alexandra Andresen      2190       1.3   25         Norway   \n",
       "Henrique Dubugras       1929       1.5   26         Brazil   \n",
       "Katharina Andresen      2190       1.3   26         Norway   \n",
       "Ryan Breslow            1513       2.0   27  United States   \n",
       "Austin Russell          1818       1.6   27  United States   \n",
       "Gary Wang                431       5.9   28  United States   \n",
       "Gustav Magnar Witzoe     637       4.5   28         Norway   \n",
       "\n",
       "                                        Source                Industry  \n",
       "Name                                                                    \n",
       "Kevin David Lehmann                 drugstores       Fashion & Retail   \n",
       "Wang Zelong                          chemicals        Metals & Mining   \n",
       "Pedro Franceschi                       fintech  Finance & Investments   \n",
       "Alexandra Andresen                 investments          diversified     \n",
       "Henrique Dubugras                      fintech  Finance & Investments   \n",
       "Katharina Andresen                 investments          diversified     \n",
       "Ryan Breslow               e-commerce software             Technology   \n",
       "Austin Russell                        sensors★             Automotive   \n",
       "Gary Wang              cryptocurrency exchange  Finance & Investments   \n",
       "Gustav Magnar Witzoe              fish farming        Food & Beverage   "
      ]
     },
     "execution_count": 15,
     "metadata": {},
     "output_type": "execute_result"
    }
   ],
   "source": [
    "#Top 10 youngest billionaires in the world\n",
    "df.sort_values(by = \"Age\", ascending = True, inplace =True)\n",
    "youngest = df.head(10)\n",
    "youngest"
   ]
  },
  {
   "cell_type": "markdown",
   "id": "cf18233d",
   "metadata": {},
   "source": [
    "The youngest Billionaire is Kevin David Lehmann 19 years old, with 2.4 Billion dollars from Germany whose industry is Fashion and retail, and main source from Drug stores. Of course health is wealth."
   ]
  },
  {
   "cell_type": "code",
   "execution_count": 16,
   "id": "ce4bdb9c",
   "metadata": {},
   "outputs": [
    {
     "data": {
      "text/plain": [
       "Text(0.5, 1.0, 'Bar chart of the Countries that produced the Top 10 youngest Billionaires')"
      ]
     },
     "execution_count": 16,
     "metadata": {},
     "output_type": "execute_result"
    },
    {
     "data": {
      "image/png": "[encoded data removed]",
      "text/plain": [
       "<Figure size 864x432 with 1 Axes>"
      ]
     },
     "metadata": {
      "needs_background": "light"
     },
     "output_type": "display_data"
    }
   ],
   "source": [
    "youngest.Country.value_counts().plot(kind = \"bar\", figsize = (12,6))\n",
    "plt.title(\"Bar chart of the Countries that produced the Top 10 youngest Billionaires\")"
   ]
  },
  {
   "cell_type": "code",
   "execution_count": 17,
   "id": "4767492e",
   "metadata": {},
   "outputs": [
    {
     "data": {
      "text/plain": [
       "Text(0.5, 1.0, 'Bar chart of the Industries that prodced the Top 10 youngest Billionaires')"
      ]
     },
     "execution_count": 17,
     "metadata": {},
     "output_type": "execute_result"
    },
    {
     "data": {
      "image/png": "[encoded data removed]",
      "text/plain": [
       "<Figure size 1152x576 with 1 Axes>"
      ]
     },
     "metadata": {
      "needs_background": "light"
     },
     "output_type": "display_data"
    }
   ],
   "source": [
    "youngest.Industry.value_counts().plot(kind = \"bar\", figsize = (16,8))\n",
    "plt.title(\"Bar chart of the Industries that prodced the Top 10 youngest Billionaires\")"
   ]
  },
  {
   "cell_type": "markdown",
   "id": "3dc8ea18",
   "metadata": {},
   "source": [
    "3 Of the Top 10 youngest billionaires are into Finance and investments, 2 of them into a diversified Industry and the remaing five into Fashio and retail, Metals and Mining, Technology, Automotive, Food and Beverages."
   ]
  },
  {
   "cell_type": "code",
   "execution_count": 18,
   "id": "8682827f",
   "metadata": {},
   "outputs": [
    {
     "data": {
      "text/html": [
       "<div>\n",
       "<style scoped>\n",
       "    .dataframe tbody tr th:only-of-type {\n",
       "        vertical-align: middle;\n",
       "    }\n",
       "\n",
       "    .dataframe tbody tr th {\n",
       "        vertical-align: top;\n",
       "    }\n",
       "\n",
       "    .dataframe thead th {\n",
       "        text-align: right;\n",
       "    }\n",
       "</style>\n",
       "<table border=\"1\" class=\"dataframe\">\n",
       "  <thead>\n",
       "    <tr style=\"text-align: right;\">\n",
       "      <th></th>\n",
       "      <th>Rank</th>\n",
       "      <th>Networth</th>\n",
       "      <th>Age</th>\n",
       "      <th>Country</th>\n",
       "      <th>Source</th>\n",
       "      <th>Industry</th>\n",
       "    </tr>\n",
       "    <tr>\n",
       "      <th>Name</th>\n",
       "      <th></th>\n",
       "      <th></th>\n",
       "      <th></th>\n",
       "      <th></th>\n",
       "      <th></th>\n",
       "      <th></th>\n",
       "    </tr>\n",
       "  </thead>\n",
       "  <tbody>\n",
       "    <tr>\n",
       "      <th>George Joseph</th>\n",
       "      <td>1645</td>\n",
       "      <td>1.8</td>\n",
       "      <td>100</td>\n",
       "      <td>United States</td>\n",
       "      <td>insurance</td>\n",
       "      <td>Finance &amp; Investments</td>\n",
       "    </tr>\n",
       "    <tr>\n",
       "      <th>Robert Kuok</th>\n",
       "      <td>163</td>\n",
       "      <td>11.7</td>\n",
       "      <td>98</td>\n",
       "      <td>Malaysia</td>\n",
       "      <td>palm oil, shipping, property</td>\n",
       "      <td>diversified</td>\n",
       "    </tr>\n",
       "    <tr>\n",
       "      <th>David Murdock</th>\n",
       "      <td>1341</td>\n",
       "      <td>2.3</td>\n",
       "      <td>98</td>\n",
       "      <td>United States</td>\n",
       "      <td>Dole, real estate</td>\n",
       "      <td>Food &amp; Beverage</td>\n",
       "    </tr>\n",
       "    <tr>\n",
       "      <th>Charles Munger</th>\n",
       "      <td>1238</td>\n",
       "      <td>2.5</td>\n",
       "      <td>98</td>\n",
       "      <td>United States</td>\n",
       "      <td>Berkshire Hathaway</td>\n",
       "      <td>Finance &amp; Investments</td>\n",
       "    </tr>\n",
       "    <tr>\n",
       "      <th>Ana Maria Brescia Cafferata</th>\n",
       "      <td>1929</td>\n",
       "      <td>1.5</td>\n",
       "      <td>97</td>\n",
       "      <td>Peru</td>\n",
       "      <td>mining, banking</td>\n",
       "      <td>diversified</td>\n",
       "    </tr>\n",
       "    <tr>\n",
       "      <th>S. Daniel Abraham</th>\n",
       "      <td>1513</td>\n",
       "      <td>2.0</td>\n",
       "      <td>97</td>\n",
       "      <td>United States</td>\n",
       "      <td>Slim-Fast</td>\n",
       "      <td>Food &amp; Beverage</td>\n",
       "    </tr>\n",
       "    <tr>\n",
       "      <th>Masatoshi Ito</th>\n",
       "      <td>622</td>\n",
       "      <td>4.6</td>\n",
       "      <td>97</td>\n",
       "      <td>Japan</td>\n",
       "      <td>retail</td>\n",
       "      <td>Fashion &amp; Retail</td>\n",
       "    </tr>\n",
       "    <tr>\n",
       "      <th>Stephen Jarislowsky</th>\n",
       "      <td>1645</td>\n",
       "      <td>1.8</td>\n",
       "      <td>96</td>\n",
       "      <td>Canada</td>\n",
       "      <td>money management</td>\n",
       "      <td>Finance &amp; Investments</td>\n",
       "    </tr>\n",
       "    <tr>\n",
       "      <th>Bernard Lewis &amp; family</th>\n",
       "      <td>2190</td>\n",
       "      <td>1.3</td>\n",
       "      <td>96</td>\n",
       "      <td>United Kingdom</td>\n",
       "      <td>fashion retailer</td>\n",
       "      <td>Fashion &amp; Retail</td>\n",
       "    </tr>\n",
       "    <tr>\n",
       "      <th>Nobutoshi Shimamura</th>\n",
       "      <td>2190</td>\n",
       "      <td>1.3</td>\n",
       "      <td>96</td>\n",
       "      <td>Japan</td>\n",
       "      <td>retail</td>\n",
       "      <td>Fashion &amp; Retail</td>\n",
       "    </tr>\n",
       "  </tbody>\n",
       "</table>\n",
       "</div>"
      ],
      "text/plain": [
       "                              Rank   Networth  Age         Country  \\\n",
       "Name                                                                 \n",
       "George Joseph                  1645       1.8  100   United States   \n",
       "Robert Kuok                     163      11.7   98        Malaysia   \n",
       "David Murdock                  1341       2.3   98   United States   \n",
       "Charles Munger                 1238       2.5   98   United States   \n",
       "Ana Maria Brescia Cafferata    1929       1.5   97            Peru   \n",
       "S. Daniel Abraham              1513       2.0   97   United States   \n",
       "Masatoshi Ito                   622       4.6   97           Japan   \n",
       "Stephen Jarislowsky            1645       1.8   96          Canada   \n",
       "Bernard Lewis & family         2190       1.3   96  United Kingdom   \n",
       "Nobutoshi Shimamura            2190       1.3   96           Japan   \n",
       "\n",
       "                                                    Source  \\\n",
       "Name                                                         \n",
       "George Joseph                                    insurance   \n",
       "Robert Kuok                   palm oil, shipping, property   \n",
       "David Murdock                            Dole, real estate   \n",
       "Charles Munger                          Berkshire Hathaway   \n",
       "Ana Maria Brescia Cafferata                mining, banking   \n",
       "S. Daniel Abraham                                Slim-Fast   \n",
       "Masatoshi Ito                                       retail   \n",
       "Stephen Jarislowsky                       money management   \n",
       "Bernard Lewis & family                    fashion retailer   \n",
       "Nobutoshi Shimamura                                 retail   \n",
       "\n",
       "                                            Industry  \n",
       "Name                                                  \n",
       "George Joseph                 Finance & Investments   \n",
       "Robert Kuok                           diversified     \n",
       "David Murdock                       Food & Beverage   \n",
       "Charles Munger                Finance & Investments   \n",
       "Ana Maria Brescia Cafferata           diversified     \n",
       "S. Daniel Abraham                   Food & Beverage   \n",
       "Masatoshi Ito                      Fashion & Retail   \n",
       "Stephen Jarislowsky           Finance & Investments   \n",
       "Bernard Lewis & family             Fashion & Retail   \n",
       "Nobutoshi Shimamura                Fashion & Retail   "
      ]
     },
     "execution_count": 18,
     "metadata": {},
     "output_type": "execute_result"
    }
   ],
   "source": [
    "#Top 10 oldest billionaires in the world\n",
    "df.sort_values(by = \"Age\", ascending = False, inplace =True)\n",
    "Oldests = df.head(10)\n",
    "Oldests"
   ]
  },
  {
   "cell_type": "markdown",
   "id": "5ef8cdfe",
   "metadata": {},
   "source": [
    "The Oldest Billionaire is George Joseph with a net worth of 1.8 Billion, Aged 100 years, from the USA who is into Finance and Investments with source from Insurance."
   ]
  },
  {
   "cell_type": "code",
   "execution_count": 19,
   "id": "3ac13374",
   "metadata": {},
   "outputs": [
    {
     "data": {
      "text/plain": [
       "Text(0.5, 1.0, 'Bar chart of the Countries that produced the Top 10 oldest Billionaires')"
      ]
     },
     "execution_count": 19,
     "metadata": {},
     "output_type": "execute_result"
    },
    {
     "data": {
      "image/png": "[encoded data removed]",
      "text/plain": [
       "<Figure size 1008x576 with 1 Axes>"
      ]
     },
     "metadata": {
      "needs_background": "light"
     },
     "output_type": "display_data"
    }
   ],
   "source": [
    "Oldests.Country.value_counts().plot(kind = \"bar\", figsize = (14,8))\n",
    "plt.title(\"Bar chart of the Countries that produced the Top 10 oldest Billionaires\")"
   ]
  },
  {
   "cell_type": "markdown",
   "id": "9e3dcd46",
   "metadata": {},
   "source": [
    "4 out of the Top 10 oldest Billionaires are from the United States, while 2 from Japan, and the remaining 4 from Malaysia, Peru, Canada and the UK."
   ]
  },
  {
   "cell_type": "code",
   "execution_count": 20,
   "id": "46b45d05",
   "metadata": {},
   "outputs": [
    {
     "data": {
      "text/plain": [
       "Text(0.5, 1.0, 'Bar chart of the Industries that prodced the Top 10 Oldest Billionaires')"
      ]
     },
     "execution_count": 20,
     "metadata": {},
     "output_type": "execute_result"
    },
    {
     "data": {
      "image/png": "[encoded data removed]",
      "text/plain": [
       "<Figure size 864x576 with 1 Axes>"
      ]
     },
     "metadata": {
      "needs_background": "light"
     },
     "output_type": "display_data"
    }
   ],
   "source": [
    "Oldests.Industry.value_counts().plot(kind = \"bar\", figsize = (12,8))\n",
    "plt.title(\"Bar chart of the Industries that prodced the Top 10 Oldest Billionaires\")"
   ]
  },
  {
   "cell_type": "markdown",
   "id": "52c85d44",
   "metadata": {},
   "source": [
    "of the Top 10 Oldest Billionaires,  3 are into Finance and investments also 3 into Fashion and retail. 2 into Food and Beverage, and two Diversified Industry"
   ]
  },
  {
   "cell_type": "code",
   "execution_count": 21,
   "id": "3fff12eb",
   "metadata": {},
   "outputs": [
    {
     "data": {
      "text/html": [
       "<div>\n",
       "<style scoped>\n",
       "    .dataframe tbody tr th:only-of-type {\n",
       "        vertical-align: middle;\n",
       "    }\n",
       "\n",
       "    .dataframe tbody tr th {\n",
       "        vertical-align: top;\n",
       "    }\n",
       "\n",
       "    .dataframe thead th {\n",
       "        text-align: right;\n",
       "    }\n",
       "</style>\n",
       "<table border=\"1\" class=\"dataframe\">\n",
       "  <thead>\n",
       "    <tr style=\"text-align: right;\">\n",
       "      <th></th>\n",
       "      <th>Age</th>\n",
       "      <th>Networth</th>\n",
       "    </tr>\n",
       "  </thead>\n",
       "  <tbody>\n",
       "    <tr>\n",
       "      <th>Age</th>\n",
       "      <td>1.000000</td>\n",
       "      <td>0.039966</td>\n",
       "    </tr>\n",
       "    <tr>\n",
       "      <th>Networth</th>\n",
       "      <td>0.039966</td>\n",
       "      <td>1.000000</td>\n",
       "    </tr>\n",
       "  </tbody>\n",
       "</table>\n",
       "</div>"
      ],
      "text/plain": [
       "               Age  Networth\n",
       "Age       1.000000  0.039966\n",
       "Networth  0.039966  1.000000"
      ]
     },
     "execution_count": 21,
     "metadata": {},
     "output_type": "execute_result"
    }
   ],
   "source": [
    "# correlation between Age and networth\n",
    "df[['Age', 'Networth']].corr()"
   ]
  },
  {
   "cell_type": "markdown",
   "id": "2705b3e1",
   "metadata": {},
   "source": [
    "Age and Networth are slightly poaitively correlated."
   ]
  },
  {
   "cell_type": "code",
   "execution_count": 22,
   "id": "ba823e13",
   "metadata": {},
   "outputs": [
    {
     "data": {
      "text/plain": [
       "Industry\n",
       "Automotive                      582.60\n",
       "Construction & Engineering      120.90\n",
       "Energy                          395.30\n",
       "Fashion & Retail               1613.20\n",
       "Finance & Investments          1734.30\n",
       "Food & Beverage                 933.35\n",
       "Gambling & Casinos              107.60\n",
       "Healthcare                      708.90\n",
       "Logistics                       196.20\n",
       "Manufacturing                  1079.80\n",
       "Media & Entertainment           493.60\n",
       "Metals & Mining                 389.70\n",
       "Real Estate                     685.80\n",
       "Service                         186.10\n",
       "Sports                           97.60\n",
       "Technology                     2168.40\n",
       "Telecom                         205.10\n",
       "diversified                     939.50\n",
       "Name: Networth, dtype: float64"
      ]
     },
     "execution_count": 22,
     "metadata": {},
     "output_type": "execute_result"
    }
   ],
   "source": [
    "Industry_grp = df.groupby(\"Industry\", axis = 0).sum()\n",
    "Industry_grp.Networth"
   ]
  },
  {
   "cell_type": "markdown",
   "id": "7d68ac66",
   "metadata": {},
   "source": [
    "Above are the Industries and corresponding net worth of Billionaires in the Industry."
   ]
  },
  {
   "cell_type": "code",
   "execution_count": 23,
   "id": "d48d7676",
   "metadata": {},
   "outputs": [
    {
     "data": {
      "text/plain": [
       "Text(0.5, 1.0, 'Bar chart of INdustries and thier combined Billionaire networth')"
      ]
     },
     "execution_count": 23,
     "metadata": {},
     "output_type": "execute_result"
    },
    {
     "data": {
      "image/png": "[encoded data removed]",
      "text/plain": [
       "<Figure size 864x432 with 1 Axes>"
      ]
     },
     "metadata": {
      "needs_background": "light"
     },
     "output_type": "display_data"
    }
   ],
   "source": [
    "Industry_grp.Networth.plot(kind = \"bar\", figsize = (12,6))\n",
    "plt.title(\"Bar chart of INdustries and thier combined Billionaire networth\")"
   ]
  },
  {
   "cell_type": "code",
   "execution_count": 24,
   "id": "f6f2ec1a",
   "metadata": {},
   "outputs": [
    {
     "data": {
      "text/html": [
       "<div>\n",
       "<style scoped>\n",
       "    .dataframe tbody tr th:only-of-type {\n",
       "        vertical-align: middle;\n",
       "    }\n",
       "\n",
       "    .dataframe tbody tr th {\n",
       "        vertical-align: top;\n",
       "    }\n",
       "\n",
       "    .dataframe thead th {\n",
       "        text-align: right;\n",
       "    }\n",
       "</style>\n",
       "<table border=\"1\" class=\"dataframe\">\n",
       "  <thead>\n",
       "    <tr style=\"text-align: right;\">\n",
       "      <th></th>\n",
       "      <th>Networth</th>\n",
       "    </tr>\n",
       "    <tr>\n",
       "      <th>Industry</th>\n",
       "      <th></th>\n",
       "    </tr>\n",
       "  </thead>\n",
       "  <tbody>\n",
       "    <tr>\n",
       "      <th>Technology</th>\n",
       "      <td>2168.4</td>\n",
       "    </tr>\n",
       "    <tr>\n",
       "      <th>Finance &amp; Investments</th>\n",
       "      <td>1734.3</td>\n",
       "    </tr>\n",
       "    <tr>\n",
       "      <th>Fashion &amp; Retail</th>\n",
       "      <td>1613.2</td>\n",
       "    </tr>\n",
       "    <tr>\n",
       "      <th>Manufacturing</th>\n",
       "      <td>1079.8</td>\n",
       "    </tr>\n",
       "    <tr>\n",
       "      <th>diversified</th>\n",
       "      <td>939.5</td>\n",
       "    </tr>\n",
       "  </tbody>\n",
       "</table>\n",
       "</div>"
      ],
      "text/plain": [
       "                        Networth\n",
       "Industry                        \n",
       "Technology                2168.4\n",
       "Finance & Investments     1734.3\n",
       "Fashion & Retail          1613.2\n",
       "Manufacturing             1079.8\n",
       "diversified                939.5"
      ]
     },
     "execution_count": 24,
     "metadata": {},
     "output_type": "execute_result"
    }
   ],
   "source": [
    "Industry_grp.Networth.sort_values()\n",
    "Top = Industry_grp.Networth.to_frame()\n",
    "Top_Industries = Top.sort_values(\"Networth\", ascending = False).head()\n",
    "Top_Industries"
   ]
  },
  {
   "cell_type": "code",
   "execution_count": null,
   "id": "d1110f6d",
   "metadata": {},
   "outputs": [],
   "source": []
  },
  {
   "cell_type": "markdown",
   "id": "5567510e",
   "metadata": {},
   "source": [
    "Billionaires in technology jointly have a whooping sum of approximately 2.2 trillion dollars, followed by Finance and Investments,approximately 1.7 trillion also closely follwed by Fashion and retail with 1.6 trillion."
   ]
  },
  {
   "cell_type": "code",
   "execution_count": 25,
   "id": "74d6fb17",
   "metadata": {},
   "outputs": [
    {
     "data": {
      "text/plain": [
       "Text(0.5, 1.0, 'Bar chart of Top 5 Industries and thier combined Billionaire networth')"
      ]
     },
     "execution_count": 25,
     "metadata": {},
     "output_type": "execute_result"
    },
    {
     "data": {
      "image/png": "[encoded data removed]",
      "text/plain": [
       "<Figure size 720x576 with 1 Axes>"
      ]
     },
     "metadata": {
      "needs_background": "light"
     },
     "output_type": "display_data"
    }
   ],
   "source": [
    "Top_Industries.plot(kind = \"bar\", figsize = (10,8))\n",
    "plt.title(\"Bar chart of Top 5 Industries and thier combined Billionaire networth\")"
   ]
  },
  {
   "cell_type": "code",
   "execution_count": 26,
   "id": "936a6615",
   "metadata": {},
   "outputs": [
    {
     "data": {
      "text/html": [
       "<div>\n",
       "<style scoped>\n",
       "    .dataframe tbody tr th:only-of-type {\n",
       "        vertical-align: middle;\n",
       "    }\n",
       "\n",
       "    .dataframe tbody tr th {\n",
       "        vertical-align: top;\n",
       "    }\n",
       "\n",
       "    .dataframe thead th {\n",
       "        text-align: right;\n",
       "    }\n",
       "</style>\n",
       "<table border=\"1\" class=\"dataframe\">\n",
       "  <thead>\n",
       "    <tr style=\"text-align: right;\">\n",
       "      <th></th>\n",
       "      <th>Networth</th>\n",
       "    </tr>\n",
       "    <tr>\n",
       "      <th>Country</th>\n",
       "      <th></th>\n",
       "    </tr>\n",
       "  </thead>\n",
       "  <tbody>\n",
       "    <tr>\n",
       "      <th>United States</th>\n",
       "      <td>4685.10</td>\n",
       "    </tr>\n",
       "    <tr>\n",
       "      <th>China</th>\n",
       "      <td>1938.45</td>\n",
       "    </tr>\n",
       "    <tr>\n",
       "      <th>India</th>\n",
       "      <td>744.80</td>\n",
       "    </tr>\n",
       "    <tr>\n",
       "      <th>Germany</th>\n",
       "      <td>604.00</td>\n",
       "    </tr>\n",
       "    <tr>\n",
       "      <th>France</th>\n",
       "      <td>550.00</td>\n",
       "    </tr>\n",
       "  </tbody>\n",
       "</table>\n",
       "</div>"
      ],
      "text/plain": [
       "               Networth\n",
       "Country                \n",
       "United States   4685.10\n",
       "China           1938.45\n",
       "India            744.80\n",
       "Germany          604.00\n",
       "France           550.00"
      ]
     },
     "execution_count": 26,
     "metadata": {},
     "output_type": "execute_result"
    }
   ],
   "source": [
    "Country_grp = df.groupby(\"Country\", axis = 0).sum()\n",
    "Country_grp.Networth\n",
    "\n",
    "Country_grp.Networth.sort_values()\n",
    "Top = Country_grp.Networth.to_frame()\n",
    "Top_Countries = Top.sort_values(\"Networth\", ascending = False).head()\n",
    "Top_Countries"
   ]
  },
  {
   "cell_type": "code",
   "execution_count": 27,
   "id": "d465b10d",
   "metadata": {},
   "outputs": [
    {
     "data": {
      "text/plain": [
       "Text(0.5, 1.0, 'Bar chart of Countries and thier combined Billionaire networth')"
      ]
     },
     "execution_count": 27,
     "metadata": {},
     "output_type": "execute_result"
    },
    {
     "data": {
      "image/png": "[encoded data removed]",
      "text/plain": [
       "<Figure size 720x576 with 1 Axes>"
      ]
     },
     "metadata": {
      "needs_background": "light"
     },
     "output_type": "display_data"
    }
   ],
   "source": [
    "Top_Countries.plot(kind = \"bar\", figsize = (10,8))\n",
    "plt.title(\"Bar chart of Countries and thier combined Billionaire networth\")"
   ]
  },
  {
   "cell_type": "markdown",
   "id": "0b033dd7",
   "metadata": {},
   "source": [
    "Billionaires from the USA alone jointly have a whooping sum of approximately 4.7 trillion dollars, distantly followed by China with approximately 2 trillion dollars. India 744 Billion, Germany 604 Billion, then Framce 550 Billion"
   ]
  },
  {
   "cell_type": "code",
   "execution_count": null,
   "id": "63ae0b3d",
   "metadata": {},
   "outputs": [],
   "source": []
  }
 ],
 "metadata": {
  "kernelspec": {
   "display_name": "Python 3 (ipykernel)",
   "language": "python",
   "name": "python3"
  },
  "language_info": {
   "codemirror_mode": {
    "name": "ipython",
    "version": 3
   },
   "file_extension": ".py",
   "mimetype": "text/x-python",
   "name": "python",
   "nbconvert_exporter": "python",
   "pygments_lexer": "ipython3",
   "version": "3.9.7"
  }
 },
 "nbformat": 4,
 "nbformat_minor": 5
}
